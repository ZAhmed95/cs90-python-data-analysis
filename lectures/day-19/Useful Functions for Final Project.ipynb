{
 "cells": [
  {
   "cell_type": "code",
   "execution_count": 7,
   "metadata": {},
   "outputs": [],
   "source": [
    "import numpy as np"
   ]
  },
  {
   "cell_type": "markdown",
   "metadata": {},
   "source": [
    "## Cumulative Average\n",
    "\n",
    "We all know how to take the average of a list of n numbers: add them all up, and divide the sum by n.\n",
    "\n",
    "However, what if you don't have the entire list at hand, and instead get the numbers given to you one by one?\n",
    "\n",
    "For example, let's say we have the list of integers from 1 to 5:"
   ]
  },
  {
   "cell_type": "code",
   "execution_count": 1,
   "metadata": {},
   "outputs": [],
   "source": [
    "l = [1, 2, 3, 4, 5]"
   ]
  },
  {
   "cell_type": "markdown",
   "metadata": {},
   "source": [
    "We can find the average the conventional way pretty easily:"
   ]
  },
  {
   "cell_type": "code",
   "execution_count": 2,
   "metadata": {},
   "outputs": [
    {
     "name": "stdout",
     "output_type": "stream",
     "text": [
      "3.0\n"
     ]
    }
   ],
   "source": [
    "avg = sum(l) / len(l)\n",
    "print(avg)"
   ]
  },
  {
   "cell_type": "markdown",
   "metadata": {},
   "source": [
    "But what if we only start by knowing the first number in the list, 1? Obviously, the average is just 1.\n",
    "\n",
    "Then, when we get the next number, 2, the average becomes `(1 + 2) / 2 = 3 / 2 = 1.5`.\n",
    "\n",
    "And, when 3 is introduced, using the average formula will give us `2`.\n",
    "\n",
    "However, notice the inefficiency in using the average formula here: every time we see a new number, we are adding up all the numbers and dividing them to find the average, even though we had already computed their sum to find the previous average.\n",
    "\n",
    "There's also the issue of memory space: every time a new number is introduced, we add it to a growing list of values.\n",
    "\n",
    "Isn't there any way for us to take advantage of work we have already done to compute the previous average, so that computing the new one is easier?\n",
    "\n",
    "Of course there is: we can use the cumulative average formula."
   ]
  },
  {
   "cell_type": "code",
   "execution_count": 3,
   "metadata": {},
   "outputs": [
    {
     "name": "stdout",
     "output_type": "stream",
     "text": [
      "2.5\n"
     ]
    }
   ],
   "source": [
    "# let's say we start with the average of 1,2,3:\n",
    "n = 3 # 3 total numbers\n",
    "avg = 2 # average is 2\n",
    "new_val = 4\n",
    "# now, if we introduce 4, how can we update the avg without having to recompute the sum of 1,2,3?\n",
    "# well, we can simply get the previous sum by multiplying the previous average by the previous count:\n",
    "previous_sum = avg * n # will give 6, which is correct: 1 + 2 + 3 = 6\n",
    "# then, we can simply add the new value, 4, to get the new sum:\n",
    "new_sum = previous_sum + new_val # this will be 10\n",
    "# and lastly, to get the new average, we divide the new sum by the new count, which increased by 1\n",
    "new_avg = new_sum / (n + 1)\n",
    "print(new_avg) # this will correctly give 2.5, the average of the integers 1-4"
   ]
  },
  {
   "cell_type": "markdown",
   "metadata": {},
   "source": [
    "So, in conclusion, the formula for cumulative average is:\n",
    "\n",
    "`new_average = ((old_average * old_count) + new_value) / new_count`\n",
    "\n",
    "Using this formula, you don't even need to keep track of all the numbers you're averaging over time. The only variables you need to keep in memory are the old average and the old count (technically the new value also, but that's the input variable)."
   ]
  },
  {
   "cell_type": "code",
   "execution_count": 4,
   "metadata": {},
   "outputs": [],
   "source": [
    "# if we wrote it as a function:\n",
    "def cum_avg(old_avg, old_count, new_val):\n",
    "    return ((old_avg * old_count) + new_val) / (old_count + 1)"
   ]
  },
  {
   "cell_type": "code",
   "execution_count": 5,
   "metadata": {},
   "outputs": [
    {
     "name": "stdout",
     "output_type": "stream",
     "text": [
      "[1, 1.5, 2.0, 2.5, 3.0]\n"
     ]
    }
   ],
   "source": [
    "# let's show it in action, by using it on a list of integers to create a list of cumulative averages:\n",
    "l = [1,2,3,4,5] # original integers\n",
    "c = [0] * len(l) # output list of cumulative averages, we start with a list of all zeros the same size as input\n",
    "c[0] = l[0] # base case: the average of the first element is just that element, no math needed\n",
    "# for each element after that, use the cum_avg function to get the new average\n",
    "for n in range(1, len(l)):\n",
    "    # here, n is the old count, c[n-1] is the old average,\n",
    "    # l[n] is the new value, and c[n] is going to be the new average\n",
    "    # apply the function\n",
    "    c[n] = cum_avg(c[n-1], n, l[n])\n",
    "\n",
    "# check the results:\n",
    "print(c)"
   ]
  },
  {
   "cell_type": "markdown",
   "metadata": {},
   "source": [
    "## Finding the maximum value in an unsorted list\n",
    "\n",
    "Given an unsorted list of numbers, return the maximum value in the list.\n",
    "\n",
    "The most basic way to do this is a **greedy search algorithm**: you simply loop through each element in the list, and keep track of the highest value you've seen so far. If a new value you come across is higher than the current maximum, you replace the current max with that value. This is why it's called a greedy algorithm: you're running through the list, and greedily grabbing the biggest thing you see as you go."
   ]
  },
  {
   "cell_type": "code",
   "execution_count": 6,
   "metadata": {},
   "outputs": [],
   "source": [
    "# implementation:\n",
    "def get_max(l):\n",
    "    current_max = l[0] # choose the first element as our current max\n",
    "    # loop through the rest of the list, starting at the second element\n",
    "    for elem in l[1:]:\n",
    "        # if we found an element greater than our current maximum, we take it as the new max\n",
    "        if elem > current_max:\n",
    "            current_max = elem\n",
    "    # once we've gone through the entire list, current_max will hold the absolute max value in the list\n",
    "    return current_max"
   ]
  },
  {
   "cell_type": "code",
   "execution_count": 14,
   "metadata": {},
   "outputs": [
    {
     "name": "stdout",
     "output_type": "stream",
     "text": [
      "[34 40  9 90 89 73 19 32 16 55]\n",
      "90\n"
     ]
    }
   ],
   "source": [
    "# create a random array of integers\n",
    "a = np.random.randint(0,100, size=10)\n",
    "print(a)\n",
    "print(get_max(a))"
   ]
  },
  {
   "cell_type": "markdown",
   "metadata": {},
   "source": [
    "Let's make it a bit more challenging: what if you don't want the actual maximum value, but the *index* of the maximum value (i.e. its position in the array)?\n",
    "\n",
    "This is not too difficult to do: we simply have to keep track of another variable, the current maximum's index, and update it whenever the current maximum updates."
   ]
  },
  {
   "cell_type": "code",
   "execution_count": 15,
   "metadata": {},
   "outputs": [],
   "source": [
    "# implementation\n",
    "def get_max_index(l):\n",
    "    current_max = l[0]\n",
    "    max_index = 0 # make a variable to hold the index of the current_max element\n",
    "    # this time, we can't just loop through the elements, we need to loop through the index values\n",
    "    for i in range(1,len(l)):\n",
    "        elem = l[i]\n",
    "        if elem > current_max:\n",
    "            current_max = elem\n",
    "            max_index = i # when we update current_max, also update max_index\n",
    "    # return both\n",
    "    return current_max, max_index"
   ]
  },
  {
   "cell_type": "code",
   "execution_count": 16,
   "metadata": {},
   "outputs": [
    {
     "name": "stdout",
     "output_type": "stream",
     "text": [
      "[22 43 72 85 46 19 94 96 97 12]\n",
      "(97, 8)\n"
     ]
    }
   ],
   "source": [
    "# test it:\n",
    "a = np.random.randint(0,100, size=10)\n",
    "print(a)\n",
    "print(get_max_index(a))"
   ]
  },
  {
   "cell_type": "markdown",
   "metadata": {},
   "source": [
    "Side note: just like with most common mathematical operations, numpy has built in methods for getting both the maximum value and index of the maximum value (we've seen both of these functions before):"
   ]
  },
  {
   "cell_type": "code",
   "execution_count": 19,
   "metadata": {},
   "outputs": [
    {
     "name": "stdout",
     "output_type": "stream",
     "text": [
      "[37 57 33 47  4 42  0 96 93 51]\n",
      "96\n",
      "7\n"
     ]
    }
   ],
   "source": [
    "a = np.random.randint(0,100, size=10)\n",
    "print(a)\n",
    "print(np.max(a)) # get max value\n",
    "print(np.argmax(a)) # get index of max value\n",
    "# np also has min and argmin for minimum values"
   ]
  },
  {
   "cell_type": "markdown",
   "metadata": {},
   "source": [
    "However, you should definitely know how to do this manually, because for the final project you will need to use this concept on a **dictionary** instead of an array, and numpy don't do dictionaries. If you sniff around online, you will find one-liners that accomplish this task for a dictionary. If you get that kind of code to work, it's fine by me."
   ]
  },
  {
   "cell_type": "code",
   "execution_count": 25,
   "metadata": {},
   "outputs": [
    {
     "name": "stdout",
     "output_type": "stream",
     "text": [
      "{0: 37, 1: 57, 2: 33, 3: 47, 4: 4, 5: 42, 6: 0, 7: 96, 8: 93, 9: 51}\n",
      "{0: 37, 1: 57, 2: 33, 3: 47, 4: 4, 5: 42, 6: 0, 7: 96, 8: 93, 9: 51}\n",
      "0\n"
     ]
    }
   ],
   "source": [
    "d = {i:a[i] for i in range(len(a))}\n",
    "print(d)\n",
    "print(np.max(d)) # Nope\n",
    "print(np.argmax(d)) # Nope"
   ]
  },
  {
   "cell_type": "markdown",
   "metadata": {},
   "source": [
    "## Apply Along Axis \n",
    "\n",
    "### How does numpy's apply_along_axis function even work?\n",
    "\n",
    "Numpy's `apply_along_axis` function takes an input array, and carves out 1D slices from this array along whichever axis you give it. Each of these 1D slices will have the function you specified applied to it, and the result will replace the original slice.\n",
    "\n",
    "The hardest part is remembering which value for the axis argument applies the function along the rows or columns. Is axis=0 for rows, or is it for columns?\n",
    "\n",
    "Well, I can tell you that even after using this function for a long time, I still get confused half of the time. So, here's the easiest way to get rid of the confusion: simply try it out on a small test array."
   ]
  },
  {
   "cell_type": "code",
   "execution_count": 26,
   "metadata": {},
   "outputs": [
    {
     "name": "stdout",
     "output_type": "stream",
     "text": [
      "[[ 0  1  2  3]\n",
      " [ 4  5  6  7]\n",
      " [ 8  9 10 11]]\n"
     ]
    }
   ],
   "source": [
    "test = np.arange(12).reshape((3,4))\n",
    "print(test)"
   ]
  },
  {
   "cell_type": "code",
   "execution_count": 29,
   "metadata": {},
   "outputs": [
    {
     "name": "stdout",
     "output_type": "stream",
     "text": [
      "[12 15 18 21]\n",
      "[ 6 22 38]\n"
     ]
    }
   ],
   "source": [
    "# remember the order of arguments: function, axis, data\n",
    "axis0 = np.apply_along_axis(np.sum, 0, test)\n",
    "axis1 = np.apply_along_axis(np.sum, 1, test)\n",
    "print(axis0)\n",
    "print(axis1)"
   ]
  },
  {
   "cell_type": "markdown",
   "metadata": {},
   "source": [
    "As you can see, it looks like axis=0 applied the sum function to each **column**, and axis=1 applied the function to each **row**. Will I remember this off the top of my head next time? Probably not. Will I know how to easily figure it out? Definitely."
   ]
  },
  {
   "cell_type": "markdown",
   "metadata": {},
   "source": [
    "## Normalizing Data\n",
    "\n",
    "Real life data comes in a variety of magnitudes and units: rainfall is measured in inches and centimeters, sales and profits are measured in thousands to millions of dollars, interstellar distances are measured in hundreds to billions of light years, and so on.\n",
    "\n",
    "**Normalization** is the process of taking data of any scale and shrinking it down to a finite range of values, usually 0-1. Generally, the easiest way to do this is by choosing a lower and upper bound, and then proportionally scaling all the data values in that range down such that the lower and upper bounds represent 0 and 1, while every other value falls somewhere in between. NOTE: for this to work, the lower bound MUST be lower than or equal to the minimum of the data, and the upper bound must be greater than or equal to the maximum."
   ]
  },
  {
   "cell_type": "code",
   "execution_count": 30,
   "metadata": {},
   "outputs": [],
   "source": [
    "# coding it is pretty simple:\n",
    "def normalize(data, lower, upper):\n",
    "    scale = upper - lower # the total range of the data\n",
    "    # subtract each data point by the lower bound to get the 'magnitude' of the data,\n",
    "    # then divide by the scale. This guarantees that the data becomes values from 0 to 1\n",
    "    return (data - lower) / scale"
   ]
  },
  {
   "cell_type": "code",
   "execution_count": 31,
   "metadata": {},
   "outputs": [
    {
     "name": "stdout",
     "output_type": "stream",
     "text": [
      "[85 81 47 87 76  8 25  0 22 14]\n",
      "[0.85 0.81 0.47 0.87 0.76 0.08 0.25 0.   0.22 0.14]\n"
     ]
    }
   ],
   "source": [
    "# try it out:\n",
    "a = np.random.randint(0,100, size=10)\n",
    "n = normalize(a, 0, 100)\n",
    "print(a)\n",
    "print(n)"
   ]
  },
  {
   "cell_type": "code",
   "execution_count": 32,
   "metadata": {},
   "outputs": [
    {
     "name": "stdout",
     "output_type": "stream",
     "text": [
      "[120  76 145  85 144  54  98  50 116 106]\n",
      "[0.7  0.26 0.95 0.35 0.94 0.04 0.48 0.   0.66 0.56]\n"
     ]
    }
   ],
   "source": [
    "# well, that wasn't the best example, because it's easy to normalize a range of 0 to 100\n",
    "a = np.random.randint(50,150, size=10)\n",
    "n = normalize(a, 50, 150)\n",
    "print(a)\n",
    "print(n)"
   ]
  },
  {
   "cell_type": "code",
   "execution_count": null,
   "metadata": {},
   "outputs": [],
   "source": [
    "# This one makes it more impactful to see what normalizing actually means:\n",
    "# The values closer to the upper bound become closer to 1 (a value exactly equal to the upper bound would become 1)\n",
    "# and vice versa, closer to the lower bound becomes closer to 0 (if equal to lower bound, it becomes 0)\n",
    "# You can think of it like this:\n",
    "# If x is a value, a is the lower bound, and b is the upper bound,\n",
    "# the normalization of x is 'how much distance has x covered from a to b?'"
   ]
  }
 ],
 "metadata": {
  "kernelspec": {
   "display_name": "Python 3",
   "language": "python",
   "name": "python3"
  },
  "language_info": {
   "codemirror_mode": {
    "name": "ipython",
    "version": 3
   },
   "file_extension": ".py",
   "mimetype": "text/x-python",
   "name": "python",
   "nbconvert_exporter": "python",
   "pygments_lexer": "ipython3",
   "version": "3.6.5"
  }
 },
 "nbformat": 4,
 "nbformat_minor": 2
}
