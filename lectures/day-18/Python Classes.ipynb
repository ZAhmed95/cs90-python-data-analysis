{
 "cells": [
  {
   "cell_type": "markdown",
   "metadata": {},
   "source": [
    "Our ultimate goal is to create a classification model to correctly label images of the digits 0-9. We want to create it with the same structure as the models we saw in scikit-learn: each instance of the model's class should be an independent object, it should have a fit() function to train the model, and a predict() function to make predictions on data.\n",
    "\n",
    "But wait: that last sentence had some unfamiliar words. We know what functions are, but what is an \"instance\" of a \"class\"?\n",
    "\n",
    "In order to create our model, first we must have an understanding of Object Oriented Programming: the idea that data, variables, and functions don't simply exist in a void by themselves, but as part of structured containers called \"objects\"."
   ]
  },
  {
   "cell_type": "markdown",
   "metadata": {},
   "source": [
    "## What is a Class?\n",
    "\n",
    "We've already seen examples of classes in python. LinearRegression and SVC from the sklearn library are classes.\n",
    "\n",
    "A class is a 'description' of an object: it describes what data an object stores, and what functions it contains."
   ]
  },
  {
   "cell_type": "code",
   "execution_count": 2,
   "metadata": {},
   "outputs": [],
   "source": [
    "# syntax:\n",
    "# the keyword 'class', followed by whatever name you give it (usually in CamelCase)\n",
    "class Person:\n",
    "    # the __init__ method is the 'constructor' of the class:\n",
    "    # it is called when a class is called, e.g. if we did p = Person()\n",
    "    # we've seen this before, e.g. classifier = SVC()\n",
    "    def __init__(self, name):\n",
    "        # the 'self' parameter refers to this current object, it is required\n",
    "        # every parameter after that is your choice\n",
    "        self.name = name\n",
    "    \n",
    "    def say_name(self):\n",
    "        print(f\"Hello, my name is {self.name}\")"
   ]
  },
  {
   "cell_type": "code",
   "execution_count": 3,
   "metadata": {},
   "outputs": [
    {
     "name": "stdout",
     "output_type": "stream",
     "text": [
      "Hello, my name is John\n",
      "Hello, my name is Bob\n"
     ]
    }
   ],
   "source": [
    "p1 = Person(\"John\")\n",
    "p2 = Person(\"Bob\")\n",
    "p1.say_name()\n",
    "p2.say_name()"
   ]
  },
  {
   "cell_type": "markdown",
   "metadata": {},
   "source": [
    "As you can see from above, p1 and p2 are two separate **instances** of the same class, Person. Each instance has its own version of the `name` property, so the value of name in one instance can be completely different from the other."
   ]
  },
  {
   "cell_type": "markdown",
   "metadata": {},
   "source": [
    "## Inheritance\n",
    "\n",
    "One of the most powerful features of classes is **inheritance**, which is the ability to copy the functionality of another class, while adding new functionality.\n",
    "\n",
    "For example, let's look at a new class, Student, which will inherit from Person."
   ]
  },
  {
   "cell_type": "code",
   "execution_count": 4,
   "metadata": {},
   "outputs": [],
   "source": [
    "# in order to have one class inherit from another,\n",
    "# simply put the parent class name in parentheses after naming the new class\n",
    "class Student(Person):\n",
    "    def __init__(self, name, grade):\n",
    "        # Student has its own init method, with its own parameters.\n",
    "        # however, usually you don't want to have to copy all the code from the parent class\n",
    "        # so, we use the super() method, which references the parent class,\n",
    "        # and call the parent's init function\n",
    "        super().__init__(name)\n",
    "        # then, you can add new code specifically designed for this class\n",
    "        self.grade = grade\n",
    "    \n",
    "    def say_name_and_grade(self):\n",
    "        print(f\"Hello, my name is {self.name} and I am in grade {self.grade}\")"
   ]
  },
  {
   "cell_type": "code",
   "execution_count": 5,
   "metadata": {},
   "outputs": [
    {
     "name": "stdout",
     "output_type": "stream",
     "text": [
      "Hello, my name is Jack\n",
      "Hello, my name is Alice and I am in grade 6\n"
     ]
    }
   ],
   "source": [
    "s1 = Student(\"Jack\", 5)\n",
    "s2 = Student(\"Alice\", 6)\n",
    "s1.say_name()\n",
    "s2.say_name_and_grade()"
   ]
  },
  {
   "cell_type": "markdown",
   "metadata": {},
   "source": [
    "Notice how we called the `say_name` function on s1, even though that function was never defined in the Student class. This is the power of inheritance: because Student inherits from Person, it automatically has access to all the properties and functions inside Person."
   ]
  },
  {
   "cell_type": "markdown",
   "metadata": {},
   "source": [
    "## Type of methods in a class\n",
    "\n",
    "There are 3 types of methods you can write in a class, which differ based on how much of the class' data it can access.\n",
    "The methods we've written so far (`__init__`, `say_name`, `say_name_and_grade`) are all known as **instance methods**.\n",
    "\n",
    "### Instance Methods\n",
    "\n",
    "Instance methods have access to the data stored in an instance of a class. For example, the `say_name` method can access the `name` property for the Person instance. Instance methods always have `self` as the first parameter.\n",
    "\n",
    "### Class Methods\n",
    "\n",
    "Class methods do NOT have access to the `self` parameter, and so cannot access any data stored in an instance of a class. Instead, class methods can access any data stored within the *Class object* itself. To clarify, `Person` and `Student` are class objects, while `Person()` and `Student()` creates *instances* of the class.\n",
    "\n",
    "### Static Methods\n",
    "\n",
    "Static methods have zero access to any data stored in a class, or any of the class instances. They are literally just regular functions: they take some arguments as input, and spit out a return value as output. That's it."
   ]
  },
  {
   "cell_type": "markdown",
   "metadata": {},
   "source": [
    "To show each of these method types in an example:"
   ]
  },
  {
   "cell_type": "code",
   "execution_count": 9,
   "metadata": {},
   "outputs": [],
   "source": [
    "class Test:\n",
    "    a = 0\n",
    "    # this is a class variable\n",
    "    # it only exists on the Test object,\n",
    "    # and all instances of the class have access to it\n",
    "    # every instance of Test will see the exact same value for a.\n",
    "    \n",
    "    def __init__(self, b):\n",
    "        self.b = b\n",
    "        # this is an instance variable.\n",
    "        # each instance of Test has its own copy of b.\n",
    "        # Each instance can only see/change its own version of b.\n",
    "    \n",
    "    # this is an instance method\n",
    "    def print_b(self):\n",
    "        # it will print the b variable stored in this instance\n",
    "        print(self.b)\n",
    "    \n",
    "    # this is a class method\n",
    "    # the @classmethod line is called a 'decorator',\n",
    "    # it's how python knows this is a class method\n",
    "    @classmethod\n",
    "    def print_a(cls):\n",
    "        # NOTE: instead of passing 'self' as the first parameter,\n",
    "        # we have 'cls', which is a reference to the class object Test\n",
    "        print(cls.a)\n",
    "    \n",
    "    # another class method\n",
    "    @classmethod\n",
    "    def inc_a(cls):\n",
    "        # add 1 to a\n",
    "        # since this is a class variable,\n",
    "        # EVERY instance of Test will be able to see this change,\n",
    "        # not just the instance this method was called on.\n",
    "        cls.a += 1\n",
    "    \n",
    "    # Static method\n",
    "    # again, just like class method, uses a decorator to tell python what it is\n",
    "    @staticmethod\n",
    "    def add_and_print(x, y):\n",
    "        # there's no default first parameter for a static method.\n",
    "        # It works exactly like a normal function:\n",
    "        # it takes arguments (if any), does some stuff,\n",
    "        # then returns a value (or not)\n",
    "        print(x + y)"
   ]
  },
  {
   "cell_type": "code",
   "execution_count": 10,
   "metadata": {},
   "outputs": [],
   "source": [
    "t1 = Test(3)\n",
    "t2 = Test(5)"
   ]
  },
  {
   "cell_type": "code",
   "execution_count": 11,
   "metadata": {},
   "outputs": [
    {
     "name": "stdout",
     "output_type": "stream",
     "text": [
      "3\n",
      "5\n"
     ]
    }
   ],
   "source": [
    "# example of calling an instance method\n",
    "t1.print_b()\n",
    "t2.print_b()"
   ]
  },
  {
   "cell_type": "code",
   "execution_count": 13,
   "metadata": {},
   "outputs": [
    {
     "name": "stdout",
     "output_type": "stream",
     "text": [
      "0\n",
      "1\n"
     ]
    }
   ],
   "source": [
    "# Note that each instance has its own version of the variable b\n",
    "\n",
    "# Example of calling class methods:\n",
    "t1.print_a()\n",
    "t2.inc_a()\n",
    "t1.print_a()"
   ]
  },
  {
   "cell_type": "code",
   "execution_count": 15,
   "metadata": {},
   "outputs": [
    {
     "name": "stdout",
     "output_type": "stream",
     "text": [
      "5\n",
      "0\n"
     ]
    }
   ],
   "source": [
    "# Note that the variable a starts at 0, as shown by t1.print_a()\n",
    "# But when t2.inc_a() is called, a is updated to 1.\n",
    "# This change doesn't just affect t2, the one who called the method,\n",
    "# t1 sees the same updated value for a. So now, t1.print_a() prints 1.\n",
    "\n",
    "# Static method:\n",
    "t1.add_and_print(2, 3)\n",
    "t2.add_and_print(1,-1)"
   ]
  },
  {
   "cell_type": "code",
   "execution_count": 16,
   "metadata": {},
   "outputs": [],
   "source": [
    "# There's nothing much to really say about static methods...\n",
    "# they literally work like normal functions\n",
    "# the only reason for them to be inside a class is for organization/convenience purposes"
   ]
  },
  {
   "cell_type": "code",
   "execution_count": null,
   "metadata": {},
   "outputs": [],
   "source": []
  }
 ],
 "metadata": {
  "kernelspec": {
   "display_name": "Python 3",
   "language": "python",
   "name": "python3"
  },
  "language_info": {
   "codemirror_mode": {
    "name": "ipython",
    "version": 3
   },
   "file_extension": ".py",
   "mimetype": "text/x-python",
   "name": "python",
   "nbconvert_exporter": "python",
   "pygments_lexer": "ipython3",
   "version": "3.6.5"
  }
 },
 "nbformat": 4,
 "nbformat_minor": 2
}
