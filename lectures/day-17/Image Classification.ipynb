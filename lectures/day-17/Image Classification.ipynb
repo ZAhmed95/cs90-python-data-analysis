{
 "cells": [
  {
   "cell_type": "code",
   "execution_count": 167,
   "metadata": {},
   "outputs": [],
   "source": [
    "import numpy as np\n",
    "import pandas as pd\n",
    "import matplotlib.pyplot as plt\n",
    "from sklearn import datasets\n",
    "from sklearn.model_selection import train_test_split"
   ]
  },
  {
   "cell_type": "code",
   "execution_count": 2,
   "metadata": {},
   "outputs": [],
   "source": [
    "# load the digit images from sklearn\n",
    "dataset = datasets.load_digits()"
   ]
  },
  {
   "cell_type": "code",
   "execution_count": 3,
   "metadata": {},
   "outputs": [],
   "source": [
    "images = dataset.images\n",
    "data = dataset.data\n",
    "target = dataset.target"
   ]
  },
  {
   "cell_type": "markdown",
   "metadata": {},
   "source": [
    "instead of using SVC, we will create our own simple model to classify the digits.\n",
    "\n",
    "our model will be similar to a linear regressor: it will look at multiple images of the same digit, and find the 'impact pixels'. An impact pixel is one that consistently has either a very low or very high value across all images of that digit. These pixels will have higher absolute coefficient values.\n",
    "\n",
    "A pixel that doesn't follow a consistent pattern over multiple images of the same digit is a low-impact pixel, which will have a coefficient close to 0.\n",
    "\n",
    "As an example, let's look at all the images for the digit 0, and see which pixels always have a value greater than 10:"
   ]
  },
  {
   "cell_type": "code",
   "execution_count": 8,
   "metadata": {},
   "outputs": [],
   "source": [
    "zero_images = images[target == 0]"
   ]
  },
  {
   "cell_type": "code",
   "execution_count": 11,
   "metadata": {},
   "outputs": [
    {
     "data": {
      "image/png": "[encoded data removed]",
      "text/plain": [
       "<Figure size 432x288 with 1 Axes>"
      ]
     },
     "metadata": {},
     "output_type": "display_data"
    },
    {
     "data": {
      "image/png": "[encoded data removed]",
      "text/plain": [
       "<Figure size 432x288 with 1 Axes>"
      ]
     },
     "metadata": {},
     "output_type": "display_data"
    },
    {
     "data": {
      "image/png": "[encoded data removed]",
      "text/plain": [
       "<Figure size 432x288 with 1 Axes>"
      ]
     },
     "metadata": {},
     "output_type": "display_data"
    },
    {
     "data": {
      "image/png": "[encoded data removed]",
      "text/plain": [
       "<Figure size 432x288 with 1 Axes>"
      ]
     },
     "metadata": {},
     "output_type": "display_data"
    },
    {
     "data": {
      "image/png": "[encoded data removed]",
      "text/plain": [
       "<Figure size 432x288 with 1 Axes>"
      ]
     },
     "metadata": {},
     "output_type": "display_data"
    }
   ],
   "source": [
    "for image in zero_images[:5]:\n",
    "    plt.imshow(image, cmap=\"Greys\")\n",
    "    plt.show()"
   ]
  },
  {
   "cell_type": "code",
   "execution_count": 13,
   "metadata": {},
   "outputs": [
    {
     "data": {
      "text/plain": [
       "array([[False, False, False,  True, False, False, False, False],\n",
       "       [False, False,  True,  True, False,  True, False, False],\n",
       "       [False, False,  True, False, False,  True, False, False],\n",
       "       [False, False,  True, False, False, False, False, False],\n",
       "       [False, False, False, False, False, False, False, False],\n",
       "       [False, False,  True, False, False,  True, False, False],\n",
       "       [False, False,  True, False, False,  True, False, False],\n",
       "       [False, False, False,  True, False, False, False, False]])"
      ]
     },
     "execution_count": 13,
     "metadata": {},
     "output_type": "execute_result"
    }
   ],
   "source": [
    "# for a single image, it's easy to find the pixels greater than 10:\n",
    "image = zero_images[0]\n",
    "image > 10"
   ]
  },
  {
   "cell_type": "code",
   "execution_count": 14,
   "metadata": {},
   "outputs": [
    {
     "data": {
      "image/png": "[encoded data removed]",
      "text/plain": [
       "<Figure size 432x288 with 1 Axes>"
      ]
     },
     "metadata": {},
     "output_type": "display_data"
    }
   ],
   "source": [
    "plt.imshow(image > 10, cmap=\"Greys\")\n",
    "plt.show()"
   ]
  },
  {
   "cell_type": "code",
   "execution_count": 19,
   "metadata": {},
   "outputs": [],
   "source": [
    "# Now, we just have to figure out how to apply this logic over multiple images.\n",
    "# We want to find the pixels that are greater than 10 in ALL images\n",
    "# with 2 images, we can simply use the AND operation:\n",
    "image2 = zero_images[1]\n",
    "impact_pixels = (image > 10) & (image2 > 10)"
   ]
  },
  {
   "cell_type": "code",
   "execution_count": 20,
   "metadata": {},
   "outputs": [
    {
     "data": {
      "image/png": "[encoded data removed]",
      "text/plain": [
       "<Figure size 432x288 with 1 Axes>"
      ]
     },
     "metadata": {},
     "output_type": "display_data"
    }
   ],
   "source": [
    "plt.imshow(impact_pixels, cmap=\"Greys\")\n",
    "plt.show()"
   ]
  },
  {
   "cell_type": "code",
   "execution_count": 71,
   "metadata": {},
   "outputs": [],
   "source": [
    "# For convenience, let's create a function to plot a digit image\n",
    "# we also include a cmap parameter that defaults to \"Greys\", so we can easily change it if needed\n",
    "# **kwargs (short for keyword arguments) is a convenient shortcut that allows us to pass\n",
    "# whatever other keyword arguments we want into the function, and they will then be passed to imshow\n",
    "def show(img, cmap=\"Greys\", **kwargs):\n",
    "    plt.imshow(img, cmap=cmap, **kwargs)\n",
    "    plt.show()"
   ]
  },
  {
   "cell_type": "code",
   "execution_count": 69,
   "metadata": {},
   "outputs": [],
   "source": [
    "# As you can see, a lot of the original impact pixels are still there, but some are now gone.\n",
    "# that's because those pixels did not meet the condition in the second image.\n",
    "# to do this for all the images, we will use numpy's apply_along axis function\n",
    "# if we pass axis=0, it will apply our function to each 'coordinate'\n",
    "impact_pixels = np.apply_along_axis(lambda pixels: np.all(pixels > 10), 0, zero_images[:5])"
   ]
  },
  {
   "cell_type": "code",
   "execution_count": 70,
   "metadata": {
    "scrolled": true
   },
   "outputs": [
    {
     "data": {
      "image/png": "[encoded data removed]",
      "text/plain": [
       "<Figure size 432x288 with 1 Axes>"
      ]
     },
     "metadata": {},
     "output_type": "display_data"
    }
   ],
   "source": [
    "show(impact_pixels)"
   ]
  },
  {
   "cell_type": "code",
   "execution_count": 35,
   "metadata": {},
   "outputs": [
    {
     "data": {
      "image/png": "[encoded data removed]",
      "text/plain": [
       "<Figure size 432x288 with 1 Axes>"
      ]
     },
     "metadata": {},
     "output_type": "display_data"
    }
   ],
   "source": [
    "# However, that's just for 5 images. if you do the same for all the zero images, you will notice something strange:\n",
    "impact_pixels = np.apply_along_axis(lambda pixels: np.all(pixels > 10), 0, zero_images)\n",
    "show(impact_pixels)"
   ]
  },
  {
   "cell_type": "code",
   "execution_count": 36,
   "metadata": {},
   "outputs": [
    {
     "data": {
      "image/png": "[encoded data removed]",
      "text/plain": [
       "<Figure size 432x288 with 1 Axes>"
      ]
     },
     "metadata": {},
     "output_type": "display_data"
    }
   ],
   "source": [
    "# That doesn't look good: there are no pixels that are ALWAYS greater than 10 in every image.\n",
    "# So our condition for determining impact pixels is a bit too harsh.\n",
    "# What if we just take the average of the pixel values?\n",
    "impact_pixels = np.apply_along_axis(np.mean, 0, zero_images)\n",
    "show(impact_pixels)"
   ]
  },
  {
   "cell_type": "code",
   "execution_count": 118,
   "metadata": {},
   "outputs": [
    {
     "data": {
      "image/png": "[encoded data removed]",
      "text/plain": [
       "<Figure size 432x288 with 1 Axes>"
      ]
     },
     "metadata": {},
     "output_type": "display_data"
    }
   ],
   "source": [
    "# This basically shows our 'average zero': what the combined values of all the zero images looks like.\n",
    "# However, one big problem when using averaging is that it introduces too much error:\n",
    "# We only really care about those highly dark pixels, the lighter colored ones are not very useful for prediction,\n",
    "# because they may have values of 0 in one image, but 16 in another. We're looking for consistently dark pixels.\n",
    "\n",
    "# To attempt to fix this, instead of taking the simple mean, we will use the square mean.\n",
    "# This simply means we square the pixel values before averaging them.\n",
    "# The benefit is that higher values are weighed much more strongly, so as a result,\n",
    "# we should see more focus on the darker pixels, with the lighter ones starting to disappear.\n",
    "pixel_weights = np.apply_along_axis(lambda pixels: np.mean(pixels ** 2), 0, zero_images)\n",
    "show(pixel_weights)"
   ]
  },
  {
   "cell_type": "code",
   "execution_count": 53,
   "metadata": {},
   "outputs": [],
   "source": [
    "# That looks a lot better: there are some pixels that are clearly defined, and fewer light ones.\n",
    "# If you want to give even more weight to the higher value pixels, you're free to raise the exponent.\n",
    "\n",
    "# Now that we have the squared average value of each pixel, we need to give each pixel a coefficient for our linear model.\n",
    "# Remember the goal:\n",
    "# the very dark pixels should have the most positive coefficients\n",
    "# the lighter pixels should have coefficients near 0\n",
    "# the white pixels should have negative coefficients\n",
    "\n",
    "# Right now, we don't really have a good 'sense' of what values should get what coefficients,\n",
    "# so we will use the following arbitrary rules:\n",
    "# if a pixel has a positive value, normalize its value by dividing it by the total of all the positive pixels.\n",
    "# At the end, all positive coefficients should add up to 1, with the darker ones having higher coefficients.\n",
    "# if a pixel is zero, its coefficient is -1 / (total number of zero pixels)\n",
    "# this way, every zero pixel is equal value, and all their coefficients add up to -1.\n",
    "# These rules mean that both a completely black image (all values 16) and a completely white image (all values 0)\n",
    "# will both result in a 'score' of 0\n",
    "def create_coefs(pixel_weights):\n",
    "    # make a copy of input array so we don't modify it\n",
    "    coefs = pixel_weights.copy()\n",
    "    # add up all the weights, and divide each weight by total (normalizing)\n",
    "    total = np.sum(coefs)\n",
    "    coefs = coefs / total\n",
    "    # give each zero a negative coefficient, such that all negative coefs add to -1\n",
    "    zeros = len(coefs[coefs == 0])\n",
    "    coefs[coefs == 0] = -1 / zeros\n",
    "    return coefs"
   ]
  },
  {
   "cell_type": "code",
   "execution_count": 119,
   "metadata": {},
   "outputs": [],
   "source": [
    "coefs = create_coefs(pixel_weights)"
   ]
  },
  {
   "cell_type": "code",
   "execution_count": 120,
   "metadata": {},
   "outputs": [
    {
     "data": {
      "image/png": "[encoded data removed]",
      "text/plain": [
       "<Figure size 432x288 with 1 Axes>"
      ]
     },
     "metadata": {},
     "output_type": "display_data"
    }
   ],
   "source": [
    "# let's see what we've got:\n",
    "show(coefs, cmap=\"seismic\")"
   ]
  },
  {
   "cell_type": "code",
   "execution_count": 77,
   "metadata": {},
   "outputs": [
    {
     "data": {
      "text/plain": [
       "0.6599032656421515"
      ]
     },
     "execution_count": 77,
     "metadata": {},
     "output_type": "execute_result"
    }
   ],
   "source": [
    "# at first glance, it makes sense:\n",
    "# the deep red pixels are the 'skeleton' pixels of a zero: they have the biggest impact on our model predicting a zero\n",
    "# the lighter colors are the 'skin' pixels: their presence in the image doesn't really affect the final prediction too much\n",
    "# the outer pixels are the dark blues, which are negative coefficients. Any dark pixels found in this area will\n",
    "# REDUCE the chances of our model predicting a zero.\n",
    "\n",
    "# let's use this coef matrix to see what score we get for some actual images.\n",
    "# We will compare scores for zeros and non zeros\n",
    "\n",
    "# to compute the score of an image, simply multiply the pixel values and the corresponding coefficients,\n",
    "# and add them all up, then divide by 16 (the max pixel value)\n",
    "# e.g. here's the score for the first image:\n",
    "np.sum(image * coefs) / 16"
   ]
  },
  {
   "cell_type": "code",
   "execution_count": 123,
   "metadata": {},
   "outputs": [
    {
     "name": "stdout",
     "output_type": "stream",
     "text": [
      "0.65810999658574\n",
      "0.6972412626331447\n",
      "0.7650260930607844\n",
      "0.7541893582262996\n",
      "0.7746488900592978\n",
      "0.7007976239506509\n",
      "0.6812757696247222\n",
      "0.8096813217013732\n",
      "0.8067177670127369\n",
      "0.6661453732184224\n"
     ]
    }
   ],
   "source": [
    "# this number by itself doesn't really help us much, we have to compare to other zero images and non-zero images\n",
    "# put that bit of code into a function\n",
    "def compute_linear_score(image, coefs):\n",
    "    return np.sum(image * coefs) / 16\n",
    "\n",
    "# try it on some zero images:\n",
    "for img in zero_images[:10]:\n",
    "    print(compute_linear_score(img, coefs))"
   ]
  },
  {
   "cell_type": "code",
   "execution_count": 124,
   "metadata": {
    "scrolled": false
   },
   "outputs": [
    {
     "data": {
      "image/png": "[encoded data removed]",
      "text/plain": [
       "<Figure size 432x288 with 1 Axes>"
      ]
     },
     "metadata": {},
     "output_type": "display_data"
    },
    {
     "name": "stdout",
     "output_type": "stream",
     "text": [
      "SCORE:  0.47856460989400484\n"
     ]
    },
    {
     "data": {
      "image/png": "[encoded data removed]",
      "text/plain": [
       "<Figure size 432x288 with 1 Axes>"
      ]
     },
     "metadata": {},
     "output_type": "display_data"
    },
    {
     "name": "stdout",
     "output_type": "stream",
     "text": [
      "SCORE:  0.5682221389496633\n"
     ]
    },
    {
     "data": {
      "image/png": "[encoded data removed]",
      "text/plain": [
       "<Figure size 432x288 with 1 Axes>"
      ]
     },
     "metadata": {},
     "output_type": "display_data"
    },
    {
     "name": "stdout",
     "output_type": "stream",
     "text": [
      "SCORE:  0.4466606087793943\n"
     ]
    },
    {
     "data": {
      "image/png": "[encoded data removed]",
      "text/plain": [
       "<Figure size 432x288 with 1 Axes>"
      ]
     },
     "metadata": {},
     "output_type": "display_data"
    },
    {
     "name": "stdout",
     "output_type": "stream",
     "text": [
      "SCORE:  0.43608645044040895\n"
     ]
    },
    {
     "data": {
      "image/png": "[encoded data removed]",
      "text/plain": [
       "<Figure size 432x288 with 1 Axes>"
      ]
     },
     "metadata": {},
     "output_type": "display_data"
    },
    {
     "name": "stdout",
     "output_type": "stream",
     "text": [
      "SCORE:  0.6325632365347251\n"
     ]
    },
    {
     "data": {
      "image/png": "[encoded data removed]",
      "text/plain": [
       "<Figure size 432x288 with 1 Axes>"
      ]
     },
     "metadata": {},
     "output_type": "display_data"
    },
    {
     "name": "stdout",
     "output_type": "stream",
     "text": [
      "SCORE:  0.5971463178813827\n"
     ]
    },
    {
     "data": {
      "image/png": "[encoded data removed]",
      "text/plain": [
       "<Figure size 432x288 with 1 Axes>"
      ]
     },
     "metadata": {},
     "output_type": "display_data"
    },
    {
     "name": "stdout",
     "output_type": "stream",
     "text": [
      "SCORE:  0.35435555101447924\n"
     ]
    },
    {
     "data": {
      "image/png": "[encoded data removed]",
      "text/plain": [
       "<Figure size 432x288 with 1 Axes>"
      ]
     },
     "metadata": {},
     "output_type": "display_data"
    },
    {
     "name": "stdout",
     "output_type": "stream",
     "text": [
      "SCORE:  0.6490021136259594\n"
     ]
    },
    {
     "data": {
      "image/png": "[encoded data removed]",
      "text/plain": [
       "<Figure size 432x288 with 1 Axes>"
      ]
     },
     "metadata": {},
     "output_type": "display_data"
    },
    {
     "name": "stdout",
     "output_type": "stream",
     "text": [
      "SCORE:  0.6344660549068122\n"
     ]
    }
   ],
   "source": [
    "# try it on some non zero images:\n",
    "non_zeros = images[target != 0]\n",
    "for img in non_zeros[:9]:\n",
    "    show(img)\n",
    "    print(\"SCORE: \", compute_linear_score(img, coefs))"
   ]
  },
  {
   "cell_type": "code",
   "execution_count": 83,
   "metadata": {},
   "outputs": [],
   "source": [
    "# As we can see, zero's get higher scores, e.g. 0.65 or higher, while other numbers get low scores.\n",
    "# Let's use a threshold of 0.65 to mark the distinction between a zero and a non-zero\n",
    "# Using this threshold, we will have our model make some predictions on our data."
   ]
  },
  {
   "cell_type": "code",
   "execution_count": 148,
   "metadata": {},
   "outputs": [],
   "source": [
    "# first, as always, split the data into training and testing sets\n",
    "train_X, test_X, train_Y, test_Y = train_test_split(data, target, test_size=0.2)"
   ]
  },
  {
   "cell_type": "code",
   "execution_count": 149,
   "metadata": {},
   "outputs": [
    {
     "name": "stdout",
     "output_type": "stream",
     "text": [
      "(1437, 64) (360, 64) (1437,) (360,)\n"
     ]
    }
   ],
   "source": [
    "print(train_X.shape, test_X.shape, train_Y.shape, test_Y.shape)"
   ]
  },
  {
   "cell_type": "code",
   "execution_count": 150,
   "metadata": {},
   "outputs": [
    {
     "data": {
      "text/plain": [
       "(64,)"
      ]
     },
     "execution_count": 150,
     "metadata": {},
     "output_type": "execute_result"
    }
   ],
   "source": [
    "# NOTE: so far, for the sake of visualization, we've been using the 'images' array as our data array.\n",
    "# But an actual model can only work with 2D arrays, where each row is a 1D array of feature values.\n",
    "# So now we will switch to using the 'data' array, which has all our image data in 1D shape.\n",
    "\n",
    "# Create the pixel weights of the zero images\n",
    "pixel_weights = np.apply_along_axis(lambda pixels: np.mean(pixels ** 2), 0, train_X[train_Y == 0])\n",
    "pixel_weights.shape"
   ]
  },
  {
   "cell_type": "code",
   "execution_count": 151,
   "metadata": {},
   "outputs": [
    {
     "data": {
      "image/png": "[encoded data removed]",
      "text/plain": [
       "<Figure size 432x288 with 1 Axes>"
      ]
     },
     "metadata": {},
     "output_type": "display_data"
    }
   ],
   "source": [
    "show(pixel_weights.reshape((8,8)))"
   ]
  },
  {
   "cell_type": "code",
   "execution_count": 152,
   "metadata": {},
   "outputs": [
    {
     "data": {
      "text/plain": [
       "(64,)"
      ]
     },
     "execution_count": 152,
     "metadata": {},
     "output_type": "execute_result"
    }
   ],
   "source": [
    "# create the coefficients array from pixel weights\n",
    "coefs = create_coefs(pixel_weights)\n",
    "coefs.shape"
   ]
  },
  {
   "cell_type": "code",
   "execution_count": 153,
   "metadata": {},
   "outputs": [
    {
     "data": {
      "image/png": "[encoded data removed]",
      "text/plain": [
       "<Figure size 432x288 with 1 Axes>"
      ]
     },
     "metadata": {},
     "output_type": "display_data"
    }
   ],
   "source": [
    "show(coefs.reshape((8,8)), cmap=\"seismic\")"
   ]
  },
  {
   "cell_type": "code",
   "execution_count": 154,
   "metadata": {
    "scrolled": false
   },
   "outputs": [],
   "source": [
    "# Now use this coef matrix, and the threshold of 0.65 we set previously, to label each row in test_X\n",
    "# as either 'zero' or 'non-zero'\n",
    "predicted = np.array(['zero' if compute_linear_score(row, coefs) > 0.65 else 'non-zero' for row in test_X])"
   ]
  },
  {
   "cell_type": "code",
   "execution_count": 155,
   "metadata": {},
   "outputs": [],
   "source": [
    "# let's create the 'expected' results, by looking at test_Y and replacing 0 with 'zero' and anything else with 'non-zero'\n",
    "expected = np.array(['zero' if digit == 0 else 'non-zero' for digit in test_Y])"
   ]
  },
  {
   "cell_type": "code",
   "execution_count": 156,
   "metadata": {},
   "outputs": [],
   "source": [
    "# Now for the moment of truth: compare our results with the expected results\n",
    "# create the comparison array, which has True if the results match, else false\n",
    "match = predicted == expected"
   ]
  },
  {
   "cell_type": "code",
   "execution_count": 157,
   "metadata": {},
   "outputs": [
    {
     "data": {
      "text/plain": [
       "0.9027777777777778"
      ]
     },
     "execution_count": 157,
     "metadata": {},
     "output_type": "execute_result"
    }
   ],
   "source": [
    "# count the number of True's, and divide by the total length of the array\n",
    "# this is basically our accuracy\n",
    "acc = np.sum(match) / len(match)\n",
    "acc"
   ]
  },
  {
   "cell_type": "code",
   "execution_count": 158,
   "metadata": {},
   "outputs": [],
   "source": [
    "# For such a ridiculously simple model we just made without any fine-tuning, that score isn't too bad."
   ]
  },
  {
   "cell_type": "code",
   "execution_count": 159,
   "metadata": {},
   "outputs": [
    {
     "name": "stdout",
     "output_type": "stream",
     "text": [
      "Total failures:  35\n",
      "False positives:  25\n",
      "False negatives:  10\n"
     ]
    }
   ],
   "source": [
    "# let's look at where the model failed:\n",
    "# Total failures:\n",
    "total_fail = np.sum(match == False)\n",
    "# False positives (it thought a digit was zero when it wasn't):\n",
    "false_positives = (expected == 'non-zero') & (predicted == 'zero')\n",
    "# False negatives (it though a digit was NOT zero when it was):\n",
    "false_negatives = (expected == 'zero') & (predicted == 'non-zero')\n",
    "print(\"Total failures: \", total_fail)\n",
    "print(\"False positives: \", np.sum(false_positives))\n",
    "print(\"False negatives: \", np.sum(false_negatives))"
   ]
  },
  {
   "cell_type": "code",
   "execution_count": 162,
   "metadata": {},
   "outputs": [
    {
     "data": {
      "image/png": "[encoded data removed]",
      "text/plain": [
       "<Figure size 432x288 with 1 Axes>"
      ]
     },
     "metadata": {},
     "output_type": "display_data"
    },
    {
     "name": "stdout",
     "output_type": "stream",
     "text": [
      "Score:  0.7295285918084369\n"
     ]
    },
    {
     "data": {
      "image/png": "[encoded data removed]",
      "text/plain": [
       "<Figure size 432x288 with 1 Axes>"
      ]
     },
     "metadata": {},
     "output_type": "display_data"
    },
    {
     "name": "stdout",
     "output_type": "stream",
     "text": [
      "Score:  0.714225360361733\n"
     ]
    },
    {
     "data": {
      "image/png": "[encoded data removed]",
      "text/plain": [
       "<Figure size 432x288 with 1 Axes>"
      ]
     },
     "metadata": {},
     "output_type": "display_data"
    },
    {
     "name": "stdout",
     "output_type": "stream",
     "text": [
      "Score:  0.6723949722681455\n"
     ]
    },
    {
     "data": {
      "image/png": "[encoded data removed]",
      "text/plain": [
       "<Figure size 432x288 with 1 Axes>"
      ]
     },
     "metadata": {},
     "output_type": "display_data"
    },
    {
     "name": "stdout",
     "output_type": "stream",
     "text": [
      "Score:  0.6872396567421166\n"
     ]
    },
    {
     "data": {
      "image/png": "[encoded data removed]",
      "text/plain": [
       "<Figure size 432x288 with 1 Axes>"
      ]
     },
     "metadata": {},
     "output_type": "display_data"
    },
    {
     "name": "stdout",
     "output_type": "stream",
     "text": [
      "Score:  0.6517877379873074\n"
     ]
    },
    {
     "data": {
      "image/png": "[encoded data removed]",
      "text/plain": [
       "<Figure size 432x288 with 1 Axes>"
      ]
     },
     "metadata": {},
     "output_type": "display_data"
    },
    {
     "name": "stdout",
     "output_type": "stream",
     "text": [
      "Score:  0.6717979802981935\n"
     ]
    },
    {
     "data": {
      "image/png": "[encoded data removed]",
      "text/plain": [
       "<Figure size 432x288 with 1 Axes>"
      ]
     },
     "metadata": {},
     "output_type": "display_data"
    },
    {
     "name": "stdout",
     "output_type": "stream",
     "text": [
      "Score:  0.6768706859443686\n"
     ]
    },
    {
     "data": {
      "image/png": "[encoded data removed]",
      "text/plain": [
       "<Figure size 432x288 with 1 Axes>"
      ]
     },
     "metadata": {},
     "output_type": "display_data"
    },
    {
     "name": "stdout",
     "output_type": "stream",
     "text": [
      "Score:  0.6554011167023472\n"
     ]
    },
    {
     "data": {
      "image/png": "[encoded data removed]",
      "text/plain": [
       "<Figure size 432x288 with 1 Axes>"
      ]
     },
     "metadata": {},
     "output_type": "display_data"
    },
    {
     "name": "stdout",
     "output_type": "stream",
     "text": [
      "Score:  0.6584314312760461\n"
     ]
    },
    {
     "data": {
      "image/png": "[encoded data removed]",
      "text/plain": [
       "<Figure size 432x288 with 1 Axes>"
      ]
     },
     "metadata": {},
     "output_type": "display_data"
    },
    {
     "name": "stdout",
     "output_type": "stream",
     "text": [
      "Score:  0.7102748567695436\n"
     ]
    },
    {
     "data": {
      "image/png": "[encoded data removed]",
      "text/plain": [
       "<Figure size 432x288 with 1 Axes>"
      ]
     },
     "metadata": {},
     "output_type": "display_data"
    },
    {
     "name": "stdout",
     "output_type": "stream",
     "text": [
      "Score:  0.6799581403277539\n"
     ]
    },
    {
     "data": {
      "image/png": "[encoded data removed]",
      "text/plain": [
       "<Figure size 432x288 with 1 Axes>"
      ]
     },
     "metadata": {},
     "output_type": "display_data"
    },
    {
     "name": "stdout",
     "output_type": "stream",
     "text": [
      "Score:  0.6502671048020296\n"
     ]
    },
    {
     "data": {
      "image/png": "[encoded data removed]",
      "text/plain": [
       "<Figure size 432x288 with 1 Axes>"
      ]
     },
     "metadata": {},
     "output_type": "display_data"
    },
    {
     "name": "stdout",
     "output_type": "stream",
     "text": [
      "Score:  0.698991529975544\n"
     ]
    },
    {
     "data": {
      "image/png": "[encoded data removed]",
      "text/plain": [
       "<Figure size 432x288 with 1 Axes>"
      ]
     },
     "metadata": {},
     "output_type": "display_data"
    },
    {
     "name": "stdout",
     "output_type": "stream",
     "text": [
      "Score:  0.7260048511698423\n"
     ]
    },
    {
     "data": {
      "image/png": "[encoded data removed]",
      "text/plain": [
       "<Figure size 432x288 with 1 Axes>"
      ]
     },
     "metadata": {},
     "output_type": "display_data"
    },
    {
     "name": "stdout",
     "output_type": "stream",
     "text": [
      "Score:  0.6738115633832862\n"
     ]
    },
    {
     "data": {
      "image/png": "[encoded data removed]",
      "text/plain": [
       "<Figure size 432x288 with 1 Axes>"
      ]
     },
     "metadata": {},
     "output_type": "display_data"
    },
    {
     "name": "stdout",
     "output_type": "stream",
     "text": [
      "Score:  0.6606445275299602\n"
     ]
    },
    {
     "data": {
      "image/png": "[encoded data removed]",
      "text/plain": [
       "<Figure size 432x288 with 1 Axes>"
      ]
     },
     "metadata": {},
     "output_type": "display_data"
    },
    {
     "name": "stdout",
     "output_type": "stream",
     "text": [
      "Score:  0.6843495727846894\n"
     ]
    },
    {
     "data": {
      "image/png": "[encoded data removed]",
      "text/plain": [
       "<Figure size 432x288 with 1 Axes>"
      ]
     },
     "metadata": {},
     "output_type": "display_data"
    },
    {
     "name": "stdout",
     "output_type": "stream",
     "text": [
      "Score:  0.6974586355394379\n"
     ]
    },
    {
     "data": {
      "image/png": "[encoded data removed]",
      "text/plain": [
       "<Figure size 432x288 with 1 Axes>"
      ]
     },
     "metadata": {},
     "output_type": "display_data"
    },
    {
     "name": "stdout",
     "output_type": "stream",
     "text": [
      "Score:  0.7033179658989615\n"
     ]
    },
    {
     "data": {
      "image/png": "[encoded data removed]",
      "text/plain": [
       "<Figure size 432x288 with 1 Axes>"
      ]
     },
     "metadata": {},
     "output_type": "display_data"
    },
    {
     "name": "stdout",
     "output_type": "stream",
     "text": [
      "Score:  0.6531332614641503\n"
     ]
    },
    {
     "data": {
      "image/png": "[encoded data removed]",
      "text/plain": [
       "<Figure size 432x288 with 1 Axes>"
      ]
     },
     "metadata": {},
     "output_type": "display_data"
    },
    {
     "name": "stdout",
     "output_type": "stream",
     "text": [
      "Score:  0.678091930335144\n"
     ]
    },
    {
     "data": {
      "image/png": "[encoded data removed]",
      "text/plain": [
       "<Figure size 432x288 with 1 Axes>"
      ]
     },
     "metadata": {},
     "output_type": "display_data"
    },
    {
     "name": "stdout",
     "output_type": "stream",
     "text": [
      "Score:  0.7227194311541478\n"
     ]
    },
    {
     "data": {
      "image/png": "[encoded data removed]",
      "text/plain": [
       "<Figure size 432x288 with 1 Axes>"
      ]
     },
     "metadata": {},
     "output_type": "display_data"
    },
    {
     "name": "stdout",
     "output_type": "stream",
     "text": [
      "Score:  0.7004741889956345\n"
     ]
    },
    {
     "data": {
      "image/png": "[encoded data removed]",
      "text/plain": [
       "<Figure size 432x288 with 1 Axes>"
      ]
     },
     "metadata": {},
     "output_type": "display_data"
    },
    {
     "name": "stdout",
     "output_type": "stream",
     "text": [
      "Score:  0.698219785420968\n"
     ]
    },
    {
     "data": {
      "image/png": "[encoded data removed]",
      "text/plain": [
       "<Figure size 432x288 with 1 Axes>"
      ]
     },
     "metadata": {},
     "output_type": "display_data"
    },
    {
     "name": "stdout",
     "output_type": "stream",
     "text": [
      "Score:  0.6524152045224254\n"
     ]
    }
   ],
   "source": [
    "# The numbers are great and all, but let's actually take a look at the images that confused our model.\n",
    "# The false positives:\n",
    "for img in test_X[false_positives]:\n",
    "    # remember img is a 1D array, make sure to reshape it to visualize properly\n",
    "    show(img.reshape((8,8)))\n",
    "    print(\"Score: \", compute_linear_score(img, coefs))"
   ]
  },
  {
   "cell_type": "code",
   "execution_count": 163,
   "metadata": {},
   "outputs": [],
   "source": [
    "# Looking at the false positives, you can see why our model would confuse these for zero's:\n",
    "# these images have a lot of dark pixels where the 'skeleton' pixels of our coef matrix is,\n",
    "# so these are significantly boosting the score."
   ]
  },
  {
   "cell_type": "code",
   "execution_count": 164,
   "metadata": {},
   "outputs": [
    {
     "data": {
      "image/png": "[encoded data removed]",
      "text/plain": [
       "<Figure size 432x288 with 1 Axes>"
      ]
     },
     "metadata": {},
     "output_type": "display_data"
    },
    {
     "name": "stdout",
     "output_type": "stream",
     "text": [
      "Score:  0.6068702526341452\n"
     ]
    },
    {
     "data": {
      "image/png": "[encoded data removed]",
      "text/plain": [
       "<Figure size 432x288 with 1 Axes>"
      ]
     },
     "metadata": {},
     "output_type": "display_data"
    },
    {
     "name": "stdout",
     "output_type": "stream",
     "text": [
      "Score:  0.606805256100627\n"
     ]
    },
    {
     "data": {
      "image/png": "[encoded data removed]",
      "text/plain": [
       "<Figure size 432x288 with 1 Axes>"
      ]
     },
     "metadata": {},
     "output_type": "display_data"
    },
    {
     "name": "stdout",
     "output_type": "stream",
     "text": [
      "Score:  0.6368641291512072\n"
     ]
    },
    {
     "data": {
      "image/png": "[encoded data removed]",
      "text/plain": [
       "<Figure size 432x288 with 1 Axes>"
      ]
     },
     "metadata": {},
     "output_type": "display_data"
    },
    {
     "name": "stdout",
     "output_type": "stream",
     "text": [
      "Score:  0.5834712624850484\n"
     ]
    },
    {
     "data": {
      "image/png": "[encoded data removed]",
      "text/plain": [
       "<Figure size 432x288 with 1 Axes>"
      ]
     },
     "metadata": {},
     "output_type": "display_data"
    },
    {
     "name": "stdout",
     "output_type": "stream",
     "text": [
      "Score:  0.6397523084483112\n"
     ]
    },
    {
     "data": {
      "image/png": "[encoded data removed]",
      "text/plain": [
       "<Figure size 432x288 with 1 Axes>"
      ]
     },
     "metadata": {},
     "output_type": "display_data"
    },
    {
     "name": "stdout",
     "output_type": "stream",
     "text": [
      "Score:  0.6274971287245632\n"
     ]
    },
    {
     "data": {
      "image/png": "[encoded data removed]",
      "text/plain": [
       "<Figure size 432x288 with 1 Axes>"
      ]
     },
     "metadata": {},
     "output_type": "display_data"
    },
    {
     "name": "stdout",
     "output_type": "stream",
     "text": [
      "Score:  0.5868691765010627\n"
     ]
    },
    {
     "data": {
      "image/png": "[encoded data removed]",
      "text/plain": [
       "<Figure size 432x288 with 1 Axes>"
      ]
     },
     "metadata": {},
     "output_type": "display_data"
    },
    {
     "name": "stdout",
     "output_type": "stream",
     "text": [
      "Score:  0.6164587888645938\n"
     ]
    },
    {
     "data": {
      "image/png": "[encoded data removed]",
      "text/plain": [
       "<Figure size 432x288 with 1 Axes>"
      ]
     },
     "metadata": {},
     "output_type": "display_data"
    },
    {
     "name": "stdout",
     "output_type": "stream",
     "text": [
      "Score:  0.6062702846324386\n"
     ]
    },
    {
     "data": {
      "image/png": "[encoded data removed]",
      "text/plain": [
       "<Figure size 432x288 with 1 Axes>"
      ]
     },
     "metadata": {},
     "output_type": "display_data"
    },
    {
     "name": "stdout",
     "output_type": "stream",
     "text": [
      "Score:  0.6387243870803081\n"
     ]
    }
   ],
   "source": [
    "# Now let's look at the false negatives:\n",
    "for img in test_X[false_negatives]:\n",
    "    # remember img is a 1D array, make sure to reshape it to visualize properly\n",
    "    show(img.reshape((8,8)))\n",
    "    print(\"Score: \", compute_linear_score(img, coefs))"
   ]
  },
  {
   "cell_type": "code",
   "execution_count": 165,
   "metadata": {},
   "outputs": [],
   "source": [
    "# These are some poor zero's that just didn't make the cut for our threshold.\n",
    "# The reason is mostly because their shape is different from the 'average zero' our model knows,\n",
    "# so their score isn't that high."
   ]
  },
  {
   "cell_type": "code",
   "execution_count": 166,
   "metadata": {},
   "outputs": [],
   "source": [
    "# Now that we have looked at a very simple classification model, I'll leave you with a final challenge question:\n",
    "# How can we improve it? (i.e. minimize false labeling as much as possible)"
   ]
  },
  {
   "cell_type": "code",
   "execution_count": null,
   "metadata": {},
   "outputs": [],
   "source": []
  }
 ],
 "metadata": {
  "kernelspec": {
   "display_name": "Python 3",
   "language": "python",
   "name": "python3"
  },
  "language_info": {
   "codemirror_mode": {
    "name": "ipython",
    "version": 3
   },
   "file_extension": ".py",
   "mimetype": "text/x-python",
   "name": "python",
   "nbconvert_exporter": "python",
   "pygments_lexer": "ipython3",
   "version": "3.6.5"
  }
 },
 "nbformat": 4,
 "nbformat_minor": 2
}
